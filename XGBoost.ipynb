{
  "nbformat": 4,
  "nbformat_minor": 0,
  "metadata": {
    "colab": {
      "provenance": [],
      "authorship_tag": "ABX9TyOKwxuBTZY7Ki9qwr+gaYJ2",
      "include_colab_link": true
    },
    "kernelspec": {
      "name": "python3",
      "display_name": "Python 3"
    },
    "language_info": {
      "name": "python"
    }
  },
  "cells": [
    {
      "cell_type": "markdown",
      "metadata": {
        "id": "view-in-github",
        "colab_type": "text"
      },
      "source": [
        "<a href=\"https://colab.research.google.com/github/RomanKunal/Deep-Learning/blob/main/XGBoost.ipynb\" target=\"_parent\"><img src=\"https://colab.research.google.com/assets/colab-badge.svg\" alt=\"Open In Colab\"/></a>"
      ]
    },
    {
      "cell_type": "code",
      "execution_count": 5,
      "metadata": {
        "colab": {
          "base_uri": "https://localhost:8080/",
          "height": 559
        },
        "id": "NQsg8zxcAkyv",
        "outputId": "b1c95a76-f540-49c8-e40c-8b136c8860e9"
      },
      "outputs": [
        {
          "output_type": "stream",
          "name": "stdout",
          "text": [
            "Fitting 2 folds for each of 16 candidates, totalling 32 fits\n",
            "Model saved as 'XGBoost_Model.joblib'\n",
            "Best Parameters: {'learning_rate': 0.05, 'max_depth': 6, 'min_child_weight': 1, 'n_estimators': 500, 'subsample': 0.8}\n",
            "R² Score: 84.67%\n",
            "Test RMSE: 0.45\n"
          ]
        },
        {
          "output_type": "display_data",
          "data": {
            "text/plain": [
              "<Figure size 640x480 with 1 Axes>"
            ],
            "image/png": "[encoded data removed]"
          },
          "metadata": {}
        }
      ],
      "source": [
        "import numpy as np\n",
        "import pandas as pd\n",
        "from sklearn.model_selection import train_test_split, GridSearchCV\n",
        "from sklearn.metrics import r2_score, mean_squared_error\n",
        "from xgboost import XGBRegressor\n",
        "from sklearn.datasets import fetch_california_housing\n",
        "import joblib\n",
        "import matplotlib.pyplot as plt\n",
        "\n",
        "# Load dataset\n",
        "data = fetch_california_housing()\n",
        "X = pd.DataFrame(data.data, columns=data.feature_names)\n",
        "y = data.target\n",
        "\n",
        "# Split into train and test sets\n",
        "X_train, X_test, y_train, y_test = train_test_split(X, y, test_size=0.2, random_state=42)\n",
        "\n",
        "# Define the XGBoost model\n",
        "model = XGBRegressor(random_state=42)\n",
        "\n",
        "# Hyperparameter tuning using GridSearchCV\n",
        "param_grid = {\n",
        "    'n_estimators': [200, 500],\n",
        "    'learning_rate': [0.05, 0.1],\n",
        "    'max_depth': [4, 6],\n",
        "    'min_child_weight': [1, 3],\n",
        "    'subsample': [0.8]\n",
        "}\n",
        "\n",
        "grid_search = GridSearchCV(\n",
        "    estimator=model,\n",
        "    param_grid=param_grid,\n",
        "    scoring='r2',\n",
        "    cv=2,\n",
        "    verbose=1,\n",
        "    n_jobs=-1\n",
        ")\n",
        "\n",
        "# Fit the model\n",
        "grid_search.fit(X_train, y_train)\n",
        "\n",
        "# Get the best model\n",
        "best_model = grid_search.best_estimator_\n",
        "\n",
        "# Save the best model\n",
        "joblib.dump(best_model, 'XGBoost_Model.joblib')\n",
        "print(\"Model saved as 'XGBoost_Model.joblib'\")\n",
        "\n",
        "# Evaluate the model\n",
        "y_pred = best_model.predict(X_test)\n",
        "r2 = r2_score(y_test, y_pred)\n",
        "rmse = np.sqrt(mean_squared_error(y_test, y_pred))\n",
        "\n",
        "print(\"Best Parameters:\", grid_search.best_params_)\n",
        "print(f\"R² Score: {r2 * 100:.2f}%\")\n",
        "print(f\"Test RMSE: {rmse:.2f}\")\n",
        "\n",
        "# Plot feature importances\n",
        "feature_importance = best_model.feature_importances_\n",
        "sorted_idx = np.argsort(feature_importance)\n",
        "plt.barh(X_train.columns[sorted_idx], feature_importance[sorted_idx])\n",
        "plt.xlabel(\"Feature Importance\")\n",
        "plt.title(\"XGBoost Feature Importances\")\n",
        "plt.show()\n"
      ]
    },
    {
      "cell_type": "code",
      "source": [
        "#saving the model\n",
        "import joblib\n",
        "joblib.dump(model, 'XGBoost_Model.joblib')\n",
        "print(\"Model saved as 'XGBoost_Model.joblib'\")"
      ],
      "metadata": {
        "colab": {
          "base_uri": "https://localhost:8080/"
        },
        "id": "rkpRvxxhBlPT",
        "outputId": "8e06f2d5-a4ec-491b-9281-6503811a8e93"
      },
      "execution_count": 2,
      "outputs": [
        {
          "output_type": "stream",
          "name": "stdout",
          "text": [
            "Model saved as 'XGBoost_Model.joblib'\n"
          ]
        }
      ]
    },
    {
      "cell_type": "code",
      "source": [
        "import joblib\n",
        "import numpy as np\n",
        "\n",
        "try:\n",
        "    # Load the model\n",
        "    loaded_model = joblib.load('XGBoost_Model.joblib')\n",
        "    print(\"Model loaded successfully.\")\n",
        "\n",
        "    # Prepare test data (replace with realistic test values)\n",
        "    test_features = np.array([1.5, 20, 6, 1, 800, 2.5, 37.5, -122.5]).reshape(1, -1)\n",
        "\n",
        "    # Make a prediction\n",
        "    prediction = loaded_model.predict(test_features)\n",
        "    print(\"Prediction:\", prediction)\n",
        "\n",
        "except Exception as e:\n",
        "    print(f\"Error: {e}\")\n"
      ],
      "metadata": {
        "colab": {
          "base_uri": "https://localhost:8080/"
        },
        "id": "ulHunkclhSuc",
        "outputId": "625354ac-d8c6-4a5a-adc0-f7ff196b3e73"
      },
      "execution_count": 6,
      "outputs": [
        {
          "output_type": "stream",
          "name": "stdout",
          "text": [
            "Model loaded successfully.\n",
            "Prediction: [2.7620015]\n"
          ]
        }
      ]
    },
    {
      "cell_type": "code",
      "source": [
        "print(type(loaded_model))"
      ],
      "metadata": {
        "colab": {
          "base_uri": "https://localhost:8080/"
        },
        "id": "2PG-B0X_hezk",
        "outputId": "29da9a9c-c7f7-4b0e-bbf7-a21398a8bdd1"
      },
      "execution_count": 4,
      "outputs": [
        {
          "output_type": "stream",
          "name": "stdout",
          "text": [
            "<class 'xgboost.sklearn.XGBRegressor'>\n"
          ]
        }
      ]
    }
  ]
}
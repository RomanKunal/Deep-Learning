{
  "nbformat": 4,
  "nbformat_minor": 0,
  "metadata": {
    "colab": {
      "provenance": [],
      "authorship_tag": "ABX9TyM5rQQ4aWH5ZWNUFbDDf39p",
      "include_colab_link": true
    },
    "kernelspec": {
      "name": "python3",
      "display_name": "Python 3"
    },
    "language_info": {
      "name": "python"
    }
  },
  "cells": [
    {
      "cell_type": "markdown",
      "metadata": {
        "id": "view-in-github",
        "colab_type": "text"
      },
      "source": [
        "<a href=\"https://colab.research.google.com/github/RomanKunal/Deep-Learning/blob/main/Containers.ipynb\" target=\"_parent\"><img src=\"https://colab.research.google.com/assets/colab-badge.svg\" alt=\"Open In Colab\"/></a>"
      ]
    },
    {
      "cell_type": "markdown",
      "source": [
        "# Collections\n",
        "1. Collection is an built-in python module that provides useful container datatypes.\n",
        "2. Container datatypes allows us to store different objects and access values in a easy way.\n",
        "3. Used to iterate over list tuple and dictonaries.\n",
        "4. The collections module offers specialized container datatypes such as Counter, deque, defaultdict, OrderedDict, namedtuple, and ChainMap, which are designed to provide additional functionality and efficiency compared to standard Python containers"
      ],
      "metadata": {
        "id": "73XNefadOfTP"
      }
    },
    {
      "cell_type": "markdown",
      "source": [
        "# 1. Counter\n",
        " It is used to keep the count of the elements in an iterable in the form of an unordered dictionary where the key represents the element in the iterable and value represents the count of that element in the iterable.\n"
      ],
      "metadata": {
        "id": "5sJvdN6JPSnJ"
      }
    },
    {
      "cell_type": "code",
      "execution_count": 3,
      "metadata": {
        "colab": {
          "base_uri": "https://localhost:8080/"
        },
        "id": "hHy3_xCAOBJe",
        "outputId": "463d472f-3f3b-46ce-ae1c-e21d346308bf"
      },
      "outputs": [
        {
          "output_type": "stream",
          "name": "stdout",
          "text": [
            "Counter({1: 5, 3: 3, 2: 2})\n",
            "Counter({'a': 5, 'b': 2, 'c': 2, 'd': 2})\n"
          ]
        }
      ],
      "source": [
        "from collections import Counter\n",
        "\n",
        "number = [1, 1, 1, 1, 2, 3, 3, 1, 2, 3]\n",
        "string = 'abaccaddbaa'\n",
        "\n",
        "count_str = Counter(string)\n",
        "count = Counter(number)\n",
        "\n",
        "print(count)      # Prints the count of elements in the list\n",
        "print(count_str)  # Prints the count of characters in the string\n"
      ]
    },
    {
      "cell_type": "markdown",
      "source": [
        "# 2. Ordered Dict\n",
        "it remembers the order in which the keys were inserted."
      ],
      "metadata": {
        "id": "62k4eB5oRDrT"
      }
    },
    {
      "cell_type": "code",
      "source": [
        "from collections import OrderedDict\n",
        "\n",
        "d={}\n",
        "d['a']=1\n",
        "d['b']=2\n",
        "d['c']=3\n",
        "\n",
        "for key,value in d.items():\n",
        "    print(key,value)\n",
        "\n",
        "d.pop('a')\n",
        "d['a']=1\n",
        "\n",
        "for key,value in d.items():\n",
        "    print(key,value)\n",
        "\n",
        "print(\"Using Ordered Dict\")\n",
        "od=OrderedDict()\n",
        "od['a']=1\n",
        "od['b']=2\n",
        "od['c']=3\n",
        "\n",
        "for key,value in od.items():\n",
        "    print(key,value)\n",
        "\n",
        "od.pop('a')\n",
        "od['a']=1\n",
        "\n",
        "for key,value in od.items():\n",
        "    print(key,value)"
      ],
      "metadata": {
        "colab": {
          "base_uri": "https://localhost:8080/"
        },
        "id": "R9g7ExJTRP_V",
        "outputId": "dd896974-f217-4c3c-ddcf-6344c7e338c6"
      },
      "execution_count": 7,
      "outputs": [
        {
          "output_type": "stream",
          "name": "stdout",
          "text": [
            "a 1\n",
            "b 2\n",
            "c 3\n",
            "b 2\n",
            "c 3\n",
            "a 1\n",
            "Using Ordered Dict\n",
            "a 1\n",
            "b 2\n",
            "c 3\n",
            "b 2\n",
            "c 3\n",
            "a 1\n"
          ]
        }
      ]
    },
    {
      "cell_type": "markdown",
      "source": [
        "#3.  Default Key\n",
        "If you try to access a key that is not present in a dictionary,it will not give a key error but will give the a default value"
      ],
      "metadata": {
        "id": "kEal7SEYSllK"
      }
    },
    {
      "cell_type": "code",
      "source": [
        "from collections import defaultdict\n",
        "\n",
        "# Defining a dict\n",
        "d = defaultdict(list)\n",
        "\n",
        "for i in range(5):\n",
        "    d[i].append(i)\n",
        "\n",
        "print(\"Dictionary with values as list:\")\n",
        "print(d)"
      ],
      "metadata": {
        "colab": {
          "base_uri": "https://localhost:8080/"
        },
        "id": "AX6SndezS2iZ",
        "outputId": "35c719e1-551a-434f-87d5-8ab6c7186829"
      },
      "execution_count": 8,
      "outputs": [
        {
          "output_type": "stream",
          "name": "stdout",
          "text": [
            "Dictionary with values as list:\n",
            "defaultdict(<class 'list'>, {0: [0], 1: [1], 2: [2], 3: [3], 4: [4]})\n"
          ]
        }
      ]
    },
    {
      "cell_type": "markdown",
      "source": [
        "# 4. Chain Map\n",
        "A ChainMap encapsulates many dictionaries into a single unit and returns a list of dictionaries"
      ],
      "metadata": {
        "id": "dISUbH_xTslu"
      }
    },
    {
      "cell_type": "code",
      "source": [
        "from collections import ChainMap\n",
        "\n",
        "d1={'a':1,'b':2}\n",
        "d2={'c':3,'d':4}\n",
        "d3={'e':5,'f':6}\n",
        "\n",
        "chain=ChainMap(d1,d2,d3)\n",
        "\n",
        "# using new_child() to add new dictionary\n",
        "chain1 = chain.new_child(d3)\n",
        "\n",
        "print(chain)\n",
        "print(chain1)"
      ],
      "metadata": {
        "colab": {
          "base_uri": "https://localhost:8080/"
        },
        "id": "EIeo8zpsTsO_",
        "outputId": "0478bd83-d137-4f6b-a084-ed4e8136abfd"
      },
      "execution_count": 10,
      "outputs": [
        {
          "output_type": "stream",
          "name": "stdout",
          "text": [
            "ChainMap({'a': 1, 'b': 2}, {'c': 3, 'd': 4}, {'e': 5, 'f': 6})\n",
            "ChainMap({'e': 5, 'f': 6}, {'a': 1, 'b': 2}, {'c': 3, 'd': 4}, {'e': 5, 'f': 6})\n"
          ]
        }
      ]
    },
    {
      "cell_type": "markdown",
      "source": [
        "# 5. Named Tuple\n",
        "A NamedTuple returns a tuple object with names for each position which the ordinary tuples lack."
      ],
      "metadata": {
        "id": "0bCwGftgUiIZ"
      }
    },
    {
      "cell_type": "code",
      "source": [
        "from collections import namedtuple\n",
        "\n",
        "# Define a named tuple called 'Person'\n",
        "Person = namedtuple('Person', ['name', 'age', 'city'])\n",
        "\n",
        "# Create instances of the named tuple\n",
        "person1 = Person(name='Alice', age=30, city='New York')\n",
        "person2 = Person(name='Bob', age=25, city='Los Angeles')\n",
        "\n",
        "# Access elements of the named tuple\n",
        "print(person1.name)  # Output: Alice\n",
        "print(person1.age)   # Output: 30\n",
        "print(person1.city)  # Output: New York\n",
        "\n",
        "# Access elements by index\n",
        "print(person2[0])    # Output: Bob\n",
        "print(person2[1])    # Output: 25"
      ],
      "metadata": {
        "colab": {
          "base_uri": "https://localhost:8080/"
        },
        "id": "kYdRyr37VFbQ",
        "outputId": "229502c0-68a2-4eab-c409-5a615eaf1891"
      },
      "execution_count": 11,
      "outputs": [
        {
          "output_type": "stream",
          "name": "stdout",
          "text": [
            "Alice\n",
            "30\n",
            "New York\n",
            "Bob\n",
            "25\n"
          ]
        }
      ]
    },
    {
      "cell_type": "markdown",
      "source": [
        "# 6. Deque\n",
        "Deque (Doubly Ended Queue) is the optimized list for quicker append and pop operations from both sides of the container. It provides O(1) time complexity for append and pop operations as compared to list with O(n) time complexity."
      ],
      "metadata": {
        "id": "XJrX8jgoVdkD"
      }
    },
    {
      "cell_type": "code",
      "source": [
        "\n",
        "from collections import deque\n",
        "\n",
        "# initializing deque\n",
        "de = deque([1,2,3])\n",
        "\n",
        "# using append() to insert element at right end\n",
        "# inserts 4 at the end of deque\n",
        "de.append(4)\n",
        "\n",
        "# printing modified deque\n",
        "print (\"The deque after appending at right is : \")\n",
        "print (de)\n",
        "\n",
        "# using appendleft() to insert element at right end\n",
        "# inserts 6 at the beginning of deque\n",
        "de.appendleft(6)\n",
        "\n",
        "# printing modified deque\n",
        "print (\"The deque after appending at left is : \")\n",
        "print (de)"
      ],
      "metadata": {
        "colab": {
          "base_uri": "https://localhost:8080/"
        },
        "id": "tCTctnH1Vpnn",
        "outputId": "a66ff49b-5047-46fb-c393-5a84b81e545e"
      },
      "execution_count": 12,
      "outputs": [
        {
          "output_type": "stream",
          "name": "stdout",
          "text": [
            "The deque after appending at right is : \n",
            "deque([1, 2, 3, 4])\n",
            "The deque after appending at left is : \n",
            "deque([6, 1, 2, 3, 4])\n"
          ]
        }
      ]
    },
    {
      "cell_type": "markdown",
      "source": [
        "# 7. UserDict\n",
        "UserDict is a dictionary-like container that acts as a wrapper around the dictionary objects. This container is used when someone wants to create their own dictionary with some modified or new functionality"
      ],
      "metadata": {
        "id": "ElTtDc_gWDso"
      }
    },
    {
      "cell_type": "code",
      "source": [
        "from collections import UserDict\n",
        "\n",
        "# Define a custom dictionary class that inherits from UserDict\n",
        "class MyDictionary(UserDict):\n",
        "    # Override the __setitem__ method to add custom behavior\n",
        "    def __setitem__(self, key, value):\n",
        "        if isinstance(value, str) and value.isnumeric():\n",
        "            raise ValueError(\"Value cannot be a numeric string\")\n",
        "        super().__setitem__(key, value)  # Use the parent class's method\n",
        "\n",
        "# Create an instance of MyDictionary\n",
        "my_dict = MyDictionary()\n",
        "\n",
        "# Add some items to the dictionary\n",
        "my_dict['name'] = 'Alice'\n",
        "my_dict['age'] = 30\n",
        "\n",
        "print(my_dict)  # Output: {'name': 'Alice', 'age': 30}\n",
        "\n",
        "# Try to add an invalid item\n",
        "try:\n",
        "    my_dict['invalid'] = '123'  # This will raise a ValueError\n",
        "except ValueError as e:\n",
        "    print(e)  # Output: Value cannot be a numeric string\n"
      ],
      "metadata": {
        "colab": {
          "base_uri": "https://localhost:8080/"
        },
        "id": "8vVU_3mbWH_h",
        "outputId": "99888297-1651-4d18-fe4c-bfd7d9748600"
      },
      "execution_count": 13,
      "outputs": [
        {
          "output_type": "stream",
          "name": "stdout",
          "text": [
            "{'name': 'Alice', 'age': 30}\n",
            "Value cannot be a numeric string\n"
          ]
        }
      ]
    },
    {
      "cell_type": "markdown",
      "source": [
        "# 8.User String\n",
        "UserString is a string like container and just like UserDict and UserList it acts as a wrapper around string objects. It is used when someone wants to create their own strings with some modified or additional functionality."
      ],
      "metadata": {
        "id": "ufsKDMbKWvGl"
      }
    },
    {
      "cell_type": "code",
      "source": [
        "from collections import UserString\n",
        "\n",
        "# Define a custom string class that inherits from UserString\n",
        "class MyString(UserString):\n",
        "    # Override the __add__ method to add custom behavior for string concatenation\n",
        "    def __add__(self, other):\n",
        "        if not isinstance(other, str):\n",
        "            raise TypeError(\"Can only concatenate with a string\")\n",
        "        return MyString(self.data + other)\n",
        "\n",
        "    # Add a method to reverse the string\n",
        "    def reverse(self):\n",
        "        return self.data[::-1]\n",
        "\n",
        "# Create an instance of MyString\n",
        "custom_string = MyString(\"Hello\")\n",
        "\n",
        "# Use the custom string\n",
        "print(custom_string)              # Output: Hello\n",
        "print(custom_string.upper())      # Output: HELLO (inherits standard string methods)\n",
        "print(custom_string.reverse())    # Output: olleH (custom method)\n",
        "\n",
        "# Concatenate with another string\n",
        "new_string = custom_string + \" World\"\n",
        "print(new_string)                 # Output: Hello World\n",
        "\n",
        "# Try invalid concatenation\n",
        "try:\n",
        "    result = custom_string + 123  # Raises TypeError\n",
        "except TypeError as e:\n",
        "    print(e)                      # Output: Can only concatenate with a string\n"
      ],
      "metadata": {
        "colab": {
          "base_uri": "https://localhost:8080/"
        },
        "id": "RJKZs3IgWuR0",
        "outputId": "de5aa756-f5ae-481c-a2f8-20687880f422"
      },
      "execution_count": 14,
      "outputs": [
        {
          "output_type": "stream",
          "name": "stdout",
          "text": [
            "Hello\n",
            "HELLO\n",
            "olleH\n",
            "Hello World\n",
            "Can only concatenate with a string\n"
          ]
        }
      ]
    },
    {
      "cell_type": "markdown",
      "source": [
        "#GUI Example using Tkinter\n",
        "Tkinter is Python's standard GUI (Graphical User Interface) library. It provides tools to create desktop applications with graphical elements such as windows, buttons, text boxes, and menus. Tkinter is built on the Tk GUI toolkit and is included with Python, making it a go-to choice for creating simple and portable GUI applications.\n",
        "\n",
        "\n",
        "\n"
      ],
      "metadata": {
        "id": "V8mpSJ09cobN"
      }
    },
    {
      "cell_type": "code",
      "source": [
        "import tkinter as tk\n",
        "\n",
        "def press(key):\n",
        "    # Add the pressed key to the entry field\n",
        "    entry_text.set(entry_text.get() + key)\n",
        "\n",
        "def clear():\n",
        "    # Clear the entry field\n",
        "    entry_text.set(\"\")\n",
        "\n",
        "def calculate():\n",
        "    try:\n",
        "        # Calculate and show the result\n",
        "        result = eval(entry_text.get())\n",
        "        entry_text.set(str(result))\n",
        "    except:\n",
        "        entry_text.set(\"Error\")\n",
        "\n",
        "# Create the main window\n",
        "root = tk.Tk()\n",
        "root.title(\"Simple Calculator\")\n",
        "\n",
        "# Entry field for the display\n",
        "entry_text = tk.StringVar()\n",
        "entry = tk.Entry(root, textvariable=entry_text, font=(\"Arial\", 18), justify='right', bd=8)\n",
        "entry.grid(row=0, column=0, columnspan=4)\n",
        "\n",
        "# Button layout\n",
        "buttons = [\n",
        "    '7', '8', '9', '/',\n",
        "    '4', '5', '6', '*',\n",
        "    '1', '2', '3', '-',\n",
        "    'C', '0', '=', '+'\n",
        "]\n",
        "\n",
        "# Add buttons to the window\n",
        "row = 1\n",
        "col = 0\n",
        "for button in buttons:\n",
        "    action = calculate if button == '=' else clear if button == 'C' else lambda b=button: press(b)\n",
        "    tk.Button(root, text=button, font=(\"Arial\", 16), command=action, width=5, height=2).grid(row=row, column=col)\n",
        "    col += 1\n",
        "    if col > 3:\n",
        "        col = 0\n",
        "        row += 1\n",
        "\n",
        "# Run the app\n",
        "root.mainloop()\n"
      ],
      "metadata": {
        "colab": {
          "base_uri": "https://localhost:8080/",
          "height": 332
        },
        "id": "XKQRk9tPcsqM",
        "outputId": "85c15ecb-6f22-486b-d49c-dfdfa6d610b2"
      },
      "execution_count": 17,
      "outputs": [
        {
          "output_type": "error",
          "ename": "TclError",
          "evalue": "no display name and no $DISPLAY environment variable",
          "traceback": [
            "\u001b[0;31m---------------------------------------------------------------------------\u001b[0m",
            "\u001b[0;31mTclError\u001b[0m                                  Traceback (most recent call last)",
            "\u001b[0;32m<ipython-input-17-3653fc325f10>\u001b[0m in \u001b[0;36m<cell line: 20>\u001b[0;34m()\u001b[0m\n\u001b[1;32m     18\u001b[0m \u001b[0;34m\u001b[0m\u001b[0m\n\u001b[1;32m     19\u001b[0m \u001b[0;31m# Create the main window\u001b[0m\u001b[0;34m\u001b[0m\u001b[0;34m\u001b[0m\u001b[0m\n\u001b[0;32m---> 20\u001b[0;31m \u001b[0mroot\u001b[0m \u001b[0;34m=\u001b[0m \u001b[0mtk\u001b[0m\u001b[0;34m.\u001b[0m\u001b[0mTk\u001b[0m\u001b[0;34m(\u001b[0m\u001b[0;34m)\u001b[0m\u001b[0;34m\u001b[0m\u001b[0;34m\u001b[0m\u001b[0m\n\u001b[0m\u001b[1;32m     21\u001b[0m \u001b[0mroot\u001b[0m\u001b[0;34m.\u001b[0m\u001b[0mtitle\u001b[0m\u001b[0;34m(\u001b[0m\u001b[0;34m\"Simple Calculator\"\u001b[0m\u001b[0;34m)\u001b[0m\u001b[0;34m\u001b[0m\u001b[0;34m\u001b[0m\u001b[0m\n\u001b[1;32m     22\u001b[0m \u001b[0;34m\u001b[0m\u001b[0m\n",
            "\u001b[0;32m/usr/lib/python3.10/tkinter/__init__.py\u001b[0m in \u001b[0;36m__init__\u001b[0;34m(self, screenName, baseName, className, useTk, sync, use)\u001b[0m\n\u001b[1;32m   2297\u001b[0m                 \u001b[0mbaseName\u001b[0m \u001b[0;34m=\u001b[0m \u001b[0mbaseName\u001b[0m \u001b[0;34m+\u001b[0m \u001b[0mext\u001b[0m\u001b[0;34m\u001b[0m\u001b[0;34m\u001b[0m\u001b[0m\n\u001b[1;32m   2298\u001b[0m         \u001b[0minteractive\u001b[0m \u001b[0;34m=\u001b[0m \u001b[0;32mFalse\u001b[0m\u001b[0;34m\u001b[0m\u001b[0;34m\u001b[0m\u001b[0m\n\u001b[0;32m-> 2299\u001b[0;31m         \u001b[0mself\u001b[0m\u001b[0;34m.\u001b[0m\u001b[0mtk\u001b[0m \u001b[0;34m=\u001b[0m \u001b[0m_tkinter\u001b[0m\u001b[0;34m.\u001b[0m\u001b[0mcreate\u001b[0m\u001b[0;34m(\u001b[0m\u001b[0mscreenName\u001b[0m\u001b[0;34m,\u001b[0m \u001b[0mbaseName\u001b[0m\u001b[0;34m,\u001b[0m \u001b[0mclassName\u001b[0m\u001b[0;34m,\u001b[0m \u001b[0minteractive\u001b[0m\u001b[0;34m,\u001b[0m \u001b[0mwantobjects\u001b[0m\u001b[0;34m,\u001b[0m \u001b[0museTk\u001b[0m\u001b[0;34m,\u001b[0m \u001b[0msync\u001b[0m\u001b[0;34m,\u001b[0m \u001b[0muse\u001b[0m\u001b[0;34m)\u001b[0m\u001b[0;34m\u001b[0m\u001b[0;34m\u001b[0m\u001b[0m\n\u001b[0m\u001b[1;32m   2300\u001b[0m         \u001b[0;32mif\u001b[0m \u001b[0museTk\u001b[0m\u001b[0;34m:\u001b[0m\u001b[0;34m\u001b[0m\u001b[0;34m\u001b[0m\u001b[0m\n\u001b[1;32m   2301\u001b[0m             \u001b[0mself\u001b[0m\u001b[0;34m.\u001b[0m\u001b[0m_loadtk\u001b[0m\u001b[0;34m(\u001b[0m\u001b[0;34m)\u001b[0m\u001b[0;34m\u001b[0m\u001b[0;34m\u001b[0m\u001b[0m\n",
            "\u001b[0;31mTclError\u001b[0m: no display name and no $DISPLAY environment variable"
          ]
        }
      ]
    },
    {
      "cell_type": "markdown",
      "source": [
        "#Requests\n",
        "requests is a popular third-party Python library used to make HTTP requests simpler and more human-friendly. It abstracts the complexity of handling HTTP requests, such as building and sending requests, handling responses, and managing sessions, with an easy-to-use API.\n",
        "\n",
        "1. Simplicity\n",
        "2. HTTP Methods Support: It supports common HTTP methods like GET, POST, PUT, DELETE, PATCH, and more.\n",
        "\n",
        "3. Handling Responses: It can handle HTTP responses, allowing easy access to status codes, content, headers, and more.\n",
        "\n",
        "4. Handling Headers and Data: You can easily send data in the body of requests, including JSON, form data, or files, and set headers.\n",
        "\n",
        "5. Session Management: The library supports persistent sessions, which allow you to maintain cookies or connection settings across multiple requests.\n",
        "\n",
        "6. Error Handling: requests provides mechanisms to catch and handle exceptions like network issues, timeouts, and bad HTTP responses."
      ],
      "metadata": {
        "id": "sVza6PsXgGnf"
      }
    },
    {
      "cell_type": "code",
      "source": [
        "import requests\n",
        "\n",
        "# Simple GET request\n",
        "response = requests.get('https://jsonplaceholder.typicode.com/posts')\n",
        "\n",
        "# Checking the status code\n",
        "print(response.status_code)  # 200 means OK\n",
        "\n",
        "# Accessing the response content (JSON in this case)\n",
        "posts = response.json()\n",
        "print(posts)\n",
        "\n",
        "# Simple POST request with JSON data\n",
        "data = {'title': 'foo', 'body': 'bar', 'userId': 1}\n",
        "response = requests.post('https://jsonplaceholder.typicode.com/posts', json=data)\n",
        "\n",
        "print(response.status_code)  # 201 means created\n",
        "print(response.json())       # Prints the response JSON\n",
        "\n",
        "# Sending parameters with GET request\n",
        "params = {'q': 'Python'}\n",
        "response = requests.get('https://www.google.com/search', params=params)\n",
        "print(response.url)  # URL with query parameters\n",
        "\n",
        "# Sending data in a POST request (form data)\n",
        "response = requests.post('https://httpbin.org/post', data={'key': 'value'})\n",
        "print(response.text)  # The server's response in text form\n"
      ],
      "metadata": {
        "colab": {
          "base_uri": "https://localhost:8080/"
        },
        "id": "dWWDA4wVgo5w",
        "outputId": "965c7af1-4b57-41b5-db72-299593415c12"
      },
      "execution_count": 18,
      "outputs": [
        {
          "output_type": "stream",
          "name": "stdout",
          "text": [
            "200\n",
            "[{'userId': 1, 'id': 1, 'title': 'sunt aut facere repellat provident occaecati excepturi optio reprehenderit', 'body': 'quia et suscipit\\nsuscipit recusandae consequuntur expedita et cum\\nreprehenderit molestiae ut ut quas totam\\nnostrum rerum est autem sunt rem eveniet architecto'}, {'userId': 1, 'id': 2, 'title': 'qui est esse', 'body': 'est rerum tempore vitae\\nsequi sint nihil reprehenderit dolor beatae ea dolores neque\\nfugiat blanditiis voluptate porro vel nihil molestiae ut reiciendis\\nqui aperiam non debitis possimus qui neque nisi nulla'}, {'userId': 1, 'id': 3, 'title': 'ea molestias quasi exercitationem repellat qui ipsa sit aut', 'body': 'et iusto sed quo iure\\nvoluptatem occaecati omnis eligendi aut ad\\nvoluptatem doloribus vel accusantium quis pariatur\\nmolestiae porro eius odio et labore et velit aut'}, {'userId': 1, 'id': 4, 'title': 'eum et est occaecati', 'body': 'ullam et saepe reiciendis voluptatem adipisci\\nsit amet autem assumenda provident rerum culpa\\nquis hic commodi nesciunt rem tenetur doloremque ipsam iure\\nquis sunt voluptatem rerum illo velit'}, {'userId': 1, 'id': 5, 'title': 'nesciunt quas odio', 'body': 'repudiandae veniam quaerat sunt sed\\nalias aut fugiat sit autem sed est\\nvoluptatem omnis possimus esse voluptatibus quis\\nest aut tenetur dolor neque'}, {'userId': 1, 'id': 6, 'title': 'dolorem eum magni eos aperiam quia', 'body': 'ut aspernatur corporis harum nihil quis provident sequi\\nmollitia nobis aliquid molestiae\\nperspiciatis et ea nemo ab reprehenderit accusantium quas\\nvoluptate dolores velit et doloremque molestiae'}, {'userId': 1, 'id': 7, 'title': 'magnam facilis autem', 'body': 'dolore placeat quibusdam ea quo vitae\\nmagni quis enim qui quis quo nemo aut saepe\\nquidem repellat excepturi ut quia\\nsunt ut sequi eos ea sed quas'}, {'userId': 1, 'id': 8, 'title': 'dolorem dolore est ipsam', 'body': 'dignissimos aperiam dolorem qui eum\\nfacilis quibusdam animi sint suscipit qui sint possimus cum\\nquaerat magni maiores excepturi\\nipsam ut commodi dolor voluptatum modi aut vitae'}, {'userId': 1, 'id': 9, 'title': 'nesciunt iure omnis dolorem tempora et accusantium', 'body': 'consectetur animi nesciunt iure dolore\\nenim quia ad\\nveniam autem ut quam aut nobis\\net est aut quod aut provident voluptas autem voluptas'}, {'userId': 1, 'id': 10, 'title': 'optio molestias id quia eum', 'body': 'quo et expedita modi cum officia vel magni\\ndoloribus qui repudiandae\\nvero nisi sit\\nquos veniam quod sed accusamus veritatis error'}, {'userId': 2, 'id': 11, 'title': 'et ea vero quia laudantium autem', 'body': 'delectus reiciendis molestiae occaecati non minima eveniet qui voluptatibus\\naccusamus in eum beatae sit\\nvel qui neque voluptates ut commodi qui incidunt\\nut animi commodi'}, {'userId': 2, 'id': 12, 'title': 'in quibusdam tempore odit est dolorem', 'body': 'itaque id aut magnam\\npraesentium quia et ea odit et ea voluptas et\\nsapiente quia nihil amet occaecati quia id voluptatem\\nincidunt ea est distinctio odio'}, {'userId': 2, 'id': 13, 'title': 'dolorum ut in voluptas mollitia et saepe quo animi', 'body': 'aut dicta possimus sint mollitia voluptas commodi quo doloremque\\niste corrupti reiciendis voluptatem eius rerum\\nsit cumque quod eligendi laborum minima\\nperferendis recusandae assumenda consectetur porro architecto ipsum ipsam'}, {'userId': 2, 'id': 14, 'title': 'voluptatem eligendi optio', 'body': 'fuga et accusamus dolorum perferendis illo voluptas\\nnon doloremque neque facere\\nad qui dolorum molestiae beatae\\nsed aut voluptas totam sit illum'}, {'userId': 2, 'id': 15, 'title': 'eveniet quod temporibus', 'body': 'reprehenderit quos placeat\\nvelit minima officia dolores impedit repudiandae molestiae nam\\nvoluptas recusandae quis delectus\\nofficiis harum fugiat vitae'}, {'userId': 2, 'id': 16, 'title': 'sint suscipit perspiciatis velit dolorum rerum ipsa laboriosam odio', 'body': 'suscipit nam nisi quo aperiam aut\\nasperiores eos fugit maiores voluptatibus quia\\nvoluptatem quis ullam qui in alias quia est\\nconsequatur magni mollitia accusamus ea nisi voluptate dicta'}, {'userId': 2, 'id': 17, 'title': 'fugit voluptas sed molestias voluptatem provident', 'body': 'eos voluptas et aut odit natus earum\\naspernatur fuga molestiae ullam\\ndeserunt ratione qui eos\\nqui nihil ratione nemo velit ut aut id quo'}, {'userId': 2, 'id': 18, 'title': 'voluptate et itaque vero tempora molestiae', 'body': 'eveniet quo quis\\nlaborum totam consequatur non dolor\\nut et est repudiandae\\nest voluptatem vel debitis et magnam'}, {'userId': 2, 'id': 19, 'title': 'adipisci placeat illum aut reiciendis qui', 'body': 'illum quis cupiditate provident sit magnam\\nea sed aut omnis\\nveniam maiores ullam consequatur atque\\nadipisci quo iste expedita sit quos voluptas'}, {'userId': 2, 'id': 20, 'title': 'doloribus ad provident suscipit at', 'body': 'qui consequuntur ducimus possimus quisquam amet similique\\nsuscipit porro ipsam amet\\neos veritatis officiis exercitationem vel fugit aut necessitatibus totam\\nomnis rerum consequatur expedita quidem cumque explicabo'}, {'userId': 3, 'id': 21, 'title': 'asperiores ea ipsam voluptatibus modi minima quia sint', 'body': 'repellat aliquid praesentium dolorem quo\\nsed totam minus non itaque\\nnihil labore molestiae sunt dolor eveniet hic recusandae veniam\\ntempora et tenetur expedita sunt'}, {'userId': 3, 'id': 22, 'title': 'dolor sint quo a velit explicabo quia nam', 'body': 'eos qui et ipsum ipsam suscipit aut\\nsed omnis non odio\\nexpedita earum mollitia molestiae aut atque rem suscipit\\nnam impedit esse'}, {'userId': 3, 'id': 23, 'title': 'maxime id vitae nihil numquam', 'body': 'veritatis unde neque eligendi\\nquae quod architecto quo neque vitae\\nest illo sit tempora doloremque fugit quod\\net et vel beatae sequi ullam sed tenetur perspiciatis'}, {'userId': 3, 'id': 24, 'title': 'autem hic labore sunt dolores incidunt', 'body': 'enim et ex nulla\\nomnis voluptas quia qui\\nvoluptatem consequatur numquam aliquam sunt\\ntotam recusandae id dignissimos aut sed asperiores deserunt'}, {'userId': 3, 'id': 25, 'title': 'rem alias distinctio quo quis', 'body': 'ullam consequatur ut\\nomnis quis sit vel consequuntur\\nipsa eligendi ipsum molestiae et omnis error nostrum\\nmolestiae illo tempore quia et distinctio'}, {'userId': 3, 'id': 26, 'title': 'est et quae odit qui non', 'body': 'similique esse doloribus nihil accusamus\\nomnis dolorem fuga consequuntur reprehenderit fugit recusandae temporibus\\nperspiciatis cum ut laudantium\\nomnis aut molestiae vel vero'}, {'userId': 3, 'id': 27, 'title': 'quasi id et eos tenetur aut quo autem', 'body': 'eum sed dolores ipsam sint possimus debitis occaecati\\ndebitis qui qui et\\nut placeat enim earum aut odit facilis\\nconsequatur suscipit necessitatibus rerum sed inventore temporibus consequatur'}, {'userId': 3, 'id': 28, 'title': 'delectus ullam et corporis nulla voluptas sequi', 'body': 'non et quaerat ex quae ad maiores\\nmaiores recusandae totam aut blanditiis mollitia quas illo\\nut voluptatibus voluptatem\\nsimilique nostrum eum'}, {'userId': 3, 'id': 29, 'title': 'iusto eius quod necessitatibus culpa ea', 'body': 'odit magnam ut saepe sed non qui\\ntempora atque nihil\\naccusamus illum doloribus illo dolor\\neligendi repudiandae odit magni similique sed cum maiores'}, {'userId': 3, 'id': 30, 'title': 'a quo magni similique perferendis', 'body': 'alias dolor cumque\\nimpedit blanditiis non eveniet odio maxime\\nblanditiis amet eius quis tempora quia autem rem\\na provident perspiciatis quia'}, {'userId': 4, 'id': 31, 'title': 'ullam ut quidem id aut vel consequuntur', 'body': 'debitis eius sed quibusdam non quis consectetur vitae\\nimpedit ut qui consequatur sed aut in\\nquidem sit nostrum et maiores adipisci atque\\nquaerat voluptatem adipisci repudiandae'}, {'userId': 4, 'id': 32, 'title': 'doloremque illum aliquid sunt', 'body': 'deserunt eos nobis asperiores et hic\\nest debitis repellat molestiae optio\\nnihil ratione ut eos beatae quibusdam distinctio maiores\\nearum voluptates et aut adipisci ea maiores voluptas maxime'}, {'userId': 4, 'id': 33, 'title': 'qui explicabo molestiae dolorem', 'body': 'rerum ut et numquam laborum odit est sit\\nid qui sint in\\nquasi tenetur tempore aperiam et quaerat qui in\\nrerum officiis sequi cumque quod'}, {'userId': 4, 'id': 34, 'title': 'magnam ut rerum iure', 'body': 'ea velit perferendis earum ut voluptatem voluptate itaque iusto\\ntotam pariatur in\\nnemo voluptatem voluptatem autem magni tempora minima in\\nest distinctio qui assumenda accusamus dignissimos officia nesciunt nobis'}, {'userId': 4, 'id': 35, 'title': 'id nihil consequatur molestias animi provident', 'body': 'nisi error delectus possimus ut eligendi vitae\\nplaceat eos harum cupiditate facilis reprehenderit voluptatem beatae\\nmodi ducimus quo illum voluptas eligendi\\net nobis quia fugit'}, {'userId': 4, 'id': 36, 'title': 'fuga nam accusamus voluptas reiciendis itaque', 'body': 'ad mollitia et omnis minus architecto odit\\nvoluptas doloremque maxime aut non ipsa qui alias veniam\\nblanditiis culpa aut quia nihil cumque facere et occaecati\\nqui aspernatur quia eaque ut aperiam inventore'}, {'userId': 4, 'id': 37, 'title': 'provident vel ut sit ratione est', 'body': 'debitis et eaque non officia sed nesciunt pariatur vel\\nvoluptatem iste vero et ea\\nnumquam aut expedita ipsum nulla in\\nvoluptates omnis consequatur aut enim officiis in quam qui'}, {'userId': 4, 'id': 38, 'title': 'explicabo et eos deleniti nostrum ab id repellendus', 'body': 'animi esse sit aut sit nesciunt assumenda eum voluptas\\nquia voluptatibus provident quia necessitatibus ea\\nrerum repudiandae quia voluptatem delectus fugit aut id quia\\nratione optio eos iusto veniam iure'}, {'userId': 4, 'id': 39, 'title': 'eos dolorem iste accusantium est eaque quam', 'body': 'corporis rerum ducimus vel eum accusantium\\nmaxime aspernatur a porro possimus iste omnis\\nest in deleniti asperiores fuga aut\\nvoluptas sapiente vel dolore minus voluptatem incidunt ex'}, {'userId': 4, 'id': 40, 'title': 'enim quo cumque', 'body': 'ut voluptatum aliquid illo tenetur nemo sequi quo facilis\\nipsum rem optio mollitia quas\\nvoluptatem eum voluptas qui\\nunde omnis voluptatem iure quasi maxime voluptas nam'}, {'userId': 5, 'id': 41, 'title': 'non est facere', 'body': 'molestias id nostrum\\nexcepturi molestiae dolore omnis repellendus quaerat saepe\\nconsectetur iste quaerat tenetur asperiores accusamus ex ut\\nnam quidem est ducimus sunt debitis saepe'}, {'userId': 5, 'id': 42, 'title': 'commodi ullam sint et excepturi error explicabo praesentium voluptas', 'body': 'odio fugit voluptatum ducimus earum autem est incidunt voluptatem\\nodit reiciendis aliquam sunt sequi nulla dolorem\\nnon facere repellendus voluptates quia\\nratione harum vitae ut'}, {'userId': 5, 'id': 43, 'title': 'eligendi iste nostrum consequuntur adipisci praesentium sit beatae perferendis', 'body': 'similique fugit est\\nillum et dolorum harum et voluptate eaque quidem\\nexercitationem quos nam commodi possimus cum odio nihil nulla\\ndolorum exercitationem magnam ex et a et distinctio debitis'}, {'userId': 5, 'id': 44, 'title': 'optio dolor molestias sit', 'body': 'temporibus est consectetur dolore\\net libero debitis vel velit laboriosam quia\\nipsum quibusdam qui itaque fuga rem aut\\nea et iure quam sed maxime ut distinctio quae'}, {'userId': 5, 'id': 45, 'title': 'ut numquam possimus omnis eius suscipit laudantium iure', 'body': 'est natus reiciendis nihil possimus aut provident\\nex et dolor\\nrepellat pariatur est\\nnobis rerum repellendus dolorem autem'}, {'userId': 5, 'id': 46, 'title': 'aut quo modi neque nostrum ducimus', 'body': 'voluptatem quisquam iste\\nvoluptatibus natus officiis facilis dolorem\\nquis quas ipsam\\nvel et voluptatum in aliquid'}, {'userId': 5, 'id': 47, 'title': 'quibusdam cumque rem aut deserunt', 'body': 'voluptatem assumenda ut qui ut cupiditate aut impedit veniam\\noccaecati nemo illum voluptatem laudantium\\nmolestiae beatae rerum ea iure soluta nostrum\\neligendi et voluptate'}, {'userId': 5, 'id': 48, 'title': 'ut voluptatem illum ea doloribus itaque eos', 'body': 'voluptates quo voluptatem facilis iure occaecati\\nvel assumenda rerum officia et\\nillum perspiciatis ab deleniti\\nlaudantium repellat ad ut et autem reprehenderit'}, {'userId': 5, 'id': 49, 'title': 'laborum non sunt aut ut assumenda perspiciatis voluptas', 'body': 'inventore ab sint\\nnatus fugit id nulla sequi architecto nihil quaerat\\neos tenetur in in eum veritatis non\\nquibusdam officiis aspernatur cumque aut commodi aut'}, {'userId': 5, 'id': 50, 'title': 'repellendus qui recusandae incidunt voluptates tenetur qui omnis exercitationem', 'body': 'error suscipit maxime adipisci consequuntur recusandae\\nvoluptas eligendi et est et voluptates\\nquia distinctio ab amet quaerat molestiae et vitae\\nadipisci impedit sequi nesciunt quis consectetur'}, {'userId': 6, 'id': 51, 'title': 'soluta aliquam aperiam consequatur illo quis voluptas', 'body': 'sunt dolores aut doloribus\\ndolore doloribus voluptates tempora et\\ndoloremque et quo\\ncum asperiores sit consectetur dolorem'}, {'userId': 6, 'id': 52, 'title': 'qui enim et consequuntur quia animi quis voluptate quibusdam', 'body': 'iusto est quibusdam fuga quas quaerat molestias\\na enim ut sit accusamus enim\\ntemporibus iusto accusantium provident architecto\\nsoluta esse reprehenderit qui laborum'}, {'userId': 6, 'id': 53, 'title': 'ut quo aut ducimus alias', 'body': 'minima harum praesentium eum rerum illo dolore\\nquasi exercitationem rerum nam\\nporro quis neque quo\\nconsequatur minus dolor quidem veritatis sunt non explicabo similique'}, {'userId': 6, 'id': 54, 'title': 'sit asperiores ipsam eveniet odio non quia', 'body': 'totam corporis dignissimos\\nvitae dolorem ut occaecati accusamus\\nex velit deserunt\\net exercitationem vero incidunt corrupti mollitia'}, {'userId': 6, 'id': 55, 'title': 'sit vel voluptatem et non libero', 'body': 'debitis excepturi ea perferendis harum libero optio\\neos accusamus cum fuga ut sapiente repudiandae\\net ut incidunt omnis molestiae\\nnihil ut eum odit'}, {'userId': 6, 'id': 56, 'title': 'qui et at rerum necessitatibus', 'body': 'aut est omnis dolores\\nneque rerum quod ea rerum velit pariatur beatae excepturi\\net provident voluptas corrupti\\ncorporis harum reprehenderit dolores eligendi'}, {'userId': 6, 'id': 57, 'title': 'sed ab est est', 'body': 'at pariatur consequuntur earum quidem\\nquo est laudantium soluta voluptatem\\nqui ullam et est\\net cum voluptas voluptatum repellat est'}, {'userId': 6, 'id': 58, 'title': 'voluptatum itaque dolores nisi et quasi', 'body': 'veniam voluptatum quae adipisci id\\net id quia eos ad et dolorem\\naliquam quo nisi sunt eos impedit error\\nad similique veniam'}, {'userId': 6, 'id': 59, 'title': 'qui commodi dolor at maiores et quis id accusantium', 'body': 'perspiciatis et quam ea autem temporibus non voluptatibus qui\\nbeatae a earum officia nesciunt dolores suscipit voluptas et\\nanimi doloribus cum rerum quas et magni\\net hic ut ut commodi expedita sunt'}, {'userId': 6, 'id': 60, 'title': 'consequatur placeat omnis quisquam quia reprehenderit fugit veritatis facere', 'body': 'asperiores sunt ab assumenda cumque modi velit\\nqui esse omnis\\nvoluptate et fuga perferendis voluptas\\nillo ratione amet aut et omnis'}, {'userId': 7, 'id': 61, 'title': 'voluptatem doloribus consectetur est ut ducimus', 'body': 'ab nemo optio odio\\ndelectus tenetur corporis similique nobis repellendus rerum omnis facilis\\nvero blanditiis debitis in nesciunt doloribus dicta dolores\\nmagnam minus velit'}, {'userId': 7, 'id': 62, 'title': 'beatae enim quia vel', 'body': 'enim aspernatur illo distinctio quae praesentium\\nbeatae alias amet delectus qui voluptate distinctio\\nodit sint accusantium autem omnis\\nquo molestiae omnis ea eveniet optio'}, {'userId': 7, 'id': 63, 'title': 'voluptas blanditiis repellendus animi ducimus error sapiente et suscipit', 'body': 'enim adipisci aspernatur nemo\\nnumquam omnis facere dolorem dolor ex quis temporibus incidunt\\nab delectus culpa quo reprehenderit blanditiis asperiores\\naccusantium ut quam in voluptatibus voluptas ipsam dicta'}, {'userId': 7, 'id': 64, 'title': 'et fugit quas eum in in aperiam quod', 'body': 'id velit blanditiis\\neum ea voluptatem\\nmolestiae sint occaecati est eos perspiciatis\\nincidunt a error provident eaque aut aut qui'}, {'userId': 7, 'id': 65, 'title': 'consequatur id enim sunt et et', 'body': 'voluptatibus ex esse\\nsint explicabo est aliquid cumque adipisci fuga repellat labore\\nmolestiae corrupti ex saepe at asperiores et perferendis\\nnatus id esse incidunt pariatur'}, {'userId': 7, 'id': 66, 'title': 'repudiandae ea animi iusto', 'body': 'officia veritatis tenetur vero qui itaque\\nsint non ratione\\nsed et ut asperiores iusto eos molestiae nostrum\\nveritatis quibusdam et nemo iusto saepe'}, {'userId': 7, 'id': 67, 'title': 'aliquid eos sed fuga est maxime repellendus', 'body': 'reprehenderit id nostrum\\nvoluptas doloremque pariatur sint et accusantium quia quod aspernatur\\net fugiat amet\\nnon sapiente et consequatur necessitatibus molestiae'}, {'userId': 7, 'id': 68, 'title': 'odio quis facere architecto reiciendis optio', 'body': 'magnam molestiae perferendis quisquam\\nqui cum reiciendis\\nquaerat animi amet hic inventore\\nea quia deleniti quidem saepe porro velit'}, {'userId': 7, 'id': 69, 'title': 'fugiat quod pariatur odit minima', 'body': 'officiis error culpa consequatur modi asperiores et\\ndolorum assumenda voluptas et vel qui aut vel rerum\\nvoluptatum quisquam perspiciatis quia rerum consequatur totam quas\\nsequi commodi repudiandae asperiores et saepe a'}, {'userId': 7, 'id': 70, 'title': 'voluptatem laborum magni', 'body': 'sunt repellendus quae\\nest asperiores aut deleniti esse accusamus repellendus quia aut\\nquia dolorem unde\\neum tempora esse dolore'}, {'userId': 8, 'id': 71, 'title': 'et iusto veniam et illum aut fuga', 'body': 'occaecati a doloribus\\niste saepe consectetur placeat eum voluptate dolorem et\\nqui quo quia voluptas\\nrerum ut id enim velit est perferendis'}, {'userId': 8, 'id': 72, 'title': 'sint hic doloribus consequatur eos non id', 'body': 'quam occaecati qui deleniti consectetur\\nconsequatur aut facere quas exercitationem aliquam hic voluptas\\nneque id sunt ut aut accusamus\\nsunt consectetur expedita inventore velit'}, {'userId': 8, 'id': 73, 'title': 'consequuntur deleniti eos quia temporibus ab aliquid at', 'body': 'voluptatem cumque tenetur consequatur expedita ipsum nemo quia explicabo\\naut eum minima consequatur\\ntempore cumque quae est et\\net in consequuntur voluptatem voluptates aut'}, {'userId': 8, 'id': 74, 'title': 'enim unde ratione doloribus quas enim ut sit sapiente', 'body': 'odit qui et et necessitatibus sint veniam\\nmollitia amet doloremque molestiae commodi similique magnam et quam\\nblanditiis est itaque\\nquo et tenetur ratione occaecati molestiae tempora'}, {'userId': 8, 'id': 75, 'title': 'dignissimos eum dolor ut enim et delectus in', 'body': 'commodi non non omnis et voluptas sit\\nautem aut nobis magnam et sapiente voluptatem\\net laborum repellat qui delectus facilis temporibus\\nrerum amet et nemo voluptate expedita adipisci error dolorem'}, {'userId': 8, 'id': 76, 'title': 'doloremque officiis ad et non perferendis', 'body': 'ut animi facere\\ntotam iusto tempore\\nmolestiae eum aut et dolorem aperiam\\nquaerat recusandae totam odio'}, {'userId': 8, 'id': 77, 'title': 'necessitatibus quasi exercitationem odio', 'body': 'modi ut in nulla repudiandae dolorum nostrum eos\\naut consequatur omnis\\nut incidunt est omnis iste et quam\\nvoluptates sapiente aliquam asperiores nobis amet corrupti repudiandae provident'}, {'userId': 8, 'id': 78, 'title': 'quam voluptatibus rerum veritatis', 'body': 'nobis facilis odit tempore cupiditate quia\\nassumenda doloribus rerum qui ea\\nillum et qui totam\\naut veniam repellendus'}, {'userId': 8, 'id': 79, 'title': 'pariatur consequatur quia magnam autem omnis non amet', 'body': 'libero accusantium et et facere incidunt sit dolorem\\nnon excepturi qui quia sed laudantium\\nquisquam molestiae ducimus est\\nofficiis esse molestiae iste et quos'}, {'userId': 8, 'id': 80, 'title': 'labore in ex et explicabo corporis aut quas', 'body': 'ex quod dolorem ea eum iure qui provident amet\\nquia qui facere excepturi et repudiandae\\nasperiores molestias provident\\nminus incidunt vero fugit rerum sint sunt excepturi provident'}, {'userId': 9, 'id': 81, 'title': 'tempora rem veritatis voluptas quo dolores vero', 'body': 'facere qui nesciunt est voluptatum voluptatem nisi\\nsequi eligendi necessitatibus ea at rerum itaque\\nharum non ratione velit laboriosam quis consequuntur\\nex officiis minima doloremque voluptas ut aut'}, {'userId': 9, 'id': 82, 'title': 'laudantium voluptate suscipit sunt enim enim', 'body': 'ut libero sit aut totam inventore sunt\\nporro sint qui sunt molestiae\\nconsequatur cupiditate qui iste ducimus adipisci\\ndolor enim assumenda soluta laboriosam amet iste delectus hic'}, {'userId': 9, 'id': 83, 'title': 'odit et voluptates doloribus alias odio et', 'body': 'est molestiae facilis quis tempora numquam nihil qui\\nvoluptate sapiente consequatur est qui\\nnecessitatibus autem aut ipsa aperiam modi dolore numquam\\nreprehenderit eius rem quibusdam'}, {'userId': 9, 'id': 84, 'title': 'optio ipsam molestias necessitatibus occaecati facilis veritatis dolores aut', 'body': 'sint molestiae magni a et quos\\neaque et quasi\\nut rerum debitis similique veniam\\nrecusandae dignissimos dolor incidunt consequatur odio'}, {'userId': 9, 'id': 85, 'title': 'dolore veritatis porro provident adipisci blanditiis et sunt', 'body': 'similique sed nisi voluptas iusto omnis\\nmollitia et quo\\nassumenda suscipit officia magnam sint sed tempora\\nenim provident pariatur praesentium atque animi amet ratione'}, {'userId': 9, 'id': 86, 'title': 'placeat quia et porro iste', 'body': 'quasi excepturi consequatur iste autem temporibus sed molestiae beatae\\net quaerat et esse ut\\nvoluptatem occaecati et vel explicabo autem\\nasperiores pariatur deserunt optio'}, {'userId': 9, 'id': 87, 'title': 'nostrum quis quasi placeat', 'body': 'eos et molestiae\\nnesciunt ut a\\ndolores perspiciatis repellendus repellat aliquid\\nmagnam sint rem ipsum est'}, {'userId': 9, 'id': 88, 'title': 'sapiente omnis fugit eos', 'body': 'consequatur omnis est praesentium\\nducimus non iste\\nneque hic deserunt\\nvoluptatibus veniam cum et rerum sed'}, {'userId': 9, 'id': 89, 'title': 'sint soluta et vel magnam aut ut sed qui', 'body': 'repellat aut aperiam totam temporibus autem et\\narchitecto magnam ut\\nconsequatur qui cupiditate rerum quia soluta dignissimos nihil iure\\ntempore quas est'}, {'userId': 9, 'id': 90, 'title': 'ad iusto omnis odit dolor voluptatibus', 'body': 'minus omnis soluta quia\\nqui sed adipisci voluptates illum ipsam voluptatem\\neligendi officia ut in\\neos soluta similique molestias praesentium blanditiis'}, {'userId': 10, 'id': 91, 'title': 'aut amet sed', 'body': 'libero voluptate eveniet aperiam sed\\nsunt placeat suscipit molestias\\nsimilique fugit nam natus\\nexpedita consequatur consequatur dolores quia eos et placeat'}, {'userId': 10, 'id': 92, 'title': 'ratione ex tenetur perferendis', 'body': 'aut et excepturi dicta laudantium sint rerum nihil\\nlaudantium et at\\na neque minima officia et similique libero et\\ncommodi voluptate qui'}, {'userId': 10, 'id': 93, 'title': 'beatae soluta recusandae', 'body': 'dolorem quibusdam ducimus consequuntur dicta aut quo laboriosam\\nvoluptatem quis enim recusandae ut sed sunt\\nnostrum est odit totam\\nsit error sed sunt eveniet provident qui nulla'}, {'userId': 10, 'id': 94, 'title': 'qui qui voluptates illo iste minima', 'body': 'aspernatur expedita soluta quo ab ut similique\\nexpedita dolores amet\\nsed temporibus distinctio magnam saepe deleniti\\nomnis facilis nam ipsum natus sint similique omnis'}, {'userId': 10, 'id': 95, 'title': 'id minus libero illum nam ad officiis', 'body': 'earum voluptatem facere provident blanditiis velit laboriosam\\npariatur accusamus odio saepe\\ncumque dolor qui a dicta ab doloribus consequatur omnis\\ncorporis cupiditate eaque assumenda ad nesciunt'}, {'userId': 10, 'id': 96, 'title': 'quaerat velit veniam amet cupiditate aut numquam ut sequi', 'body': 'in non odio excepturi sint eum\\nlabore voluptates vitae quia qui et\\ninventore itaque rerum\\nveniam non exercitationem delectus aut'}, {'userId': 10, 'id': 97, 'title': 'quas fugiat ut perspiciatis vero provident', 'body': 'eum non blanditiis soluta porro quibusdam voluptas\\nvel voluptatem qui placeat dolores qui velit aut\\nvel inventore aut cumque culpa explicabo aliquid at\\nperspiciatis est et voluptatem dignissimos dolor itaque sit nam'}, {'userId': 10, 'id': 98, 'title': 'laboriosam dolor voluptates', 'body': 'doloremque ex facilis sit sint culpa\\nsoluta assumenda eligendi non ut eius\\nsequi ducimus vel quasi\\nveritatis est dolores'}, {'userId': 10, 'id': 99, 'title': 'temporibus sit alias delectus eligendi possimus magni', 'body': 'quo deleniti praesentium dicta non quod\\naut est molestias\\nmolestias et officia quis nihil\\nitaque dolorem quia'}, {'userId': 10, 'id': 100, 'title': 'at nam consequatur ea labore ea harum', 'body': 'cupiditate quo est a modi nesciunt soluta\\nipsa voluptas error itaque dicta in\\nautem qui minus magnam et distinctio eum\\naccusamus ratione error aut'}]\n",
            "201\n",
            "{'title': 'foo', 'body': 'bar', 'userId': 1, 'id': 101}\n",
            "https://www.google.com/search?q=Python\n",
            "{\n",
            "  \"args\": {}, \n",
            "  \"data\": \"\", \n",
            "  \"files\": {}, \n",
            "  \"form\": {\n",
            "    \"key\": \"value\"\n",
            "  }, \n",
            "  \"headers\": {\n",
            "    \"Accept\": \"*/*\", \n",
            "    \"Accept-Encoding\": \"gzip, deflate\", \n",
            "    \"Content-Length\": \"9\", \n",
            "    \"Content-Type\": \"application/x-www-form-urlencoded\", \n",
            "    \"Host\": \"httpbin.org\", \n",
            "    \"User-Agent\": \"python-requests/2.32.3\", \n",
            "    \"X-Amzn-Trace-Id\": \"Root=1-677106da-58e424dd0d86d0300ee253b7\"\n",
            "  }, \n",
            "  \"json\": null, \n",
            "  \"origin\": \"104.199.168.206\", \n",
            "  \"url\": \"https://httpbin.org/post\"\n",
            "}\n",
            "\n"
          ]
        }
      ]
    },
    {
      "cell_type": "markdown",
      "source": [
        "# Web Scrapping\n",
        "Web scraping is the process of automatically extracting data from websites. It involves fetching the content of web pages and parsing it to retrieve specific information, such as text, images, links, tables, or other elements, which can then be stored, analyzed, or used in various applications.\n",
        "\n",
        "Web scraping is commonly used for tasks such as:\n",
        "\n",
        "Data collection for research, analytics, or business intelligence.\n",
        "Price monitoring for e-commerce sites.\n",
        "Content aggregation from multiple websites.\n",
        "\n",
        "\n",
        "#How Web Srapping works\n",
        "Send the Http request -> Parse the Html Response -> Extract the data -> Store the data\n",
        "\n",
        "\n"
      ],
      "metadata": {
        "id": "BqjnB2dug7yO"
      }
    },
    {
      "cell_type": "markdown",
      "source": [
        "# 1. BeautifulSoup4\n",
        "BeautifulSoup4 (often referred to as BeautifulSoup) is a Python library used for parsing HTML and XML documents and extracting data from them in a structured way. It is widely used for web scraping because it provides easy-to-use methods for navigating and manipulating HTML or XML documents.\n",
        "Introduced by Leonard Richardson\n",
        "\n",
        "ADVANTAGES:\n",
        "*   Supports Unicode\n",
        "*   Tag Searching\n",
        "*   It allows you to parse HTML or XML content and navigate through the tree structure of the document.\n",
        "* Very Fast\n",
        "* Extremly Lenient\n",
        "* Prettify the source code\n",
        "\n",
        "DISADVANTAGES:\n",
        "* Not as Fast as lxml: While easy to use, BeautifulSoup may be slower than other parsers like lxml, especially when working with large datasets.\n",
        "* Does Not Handle Dynamic Content\n"
      ],
      "metadata": {
        "id": "Vge4VuDvihq2"
      }
    },
    {
      "cell_type": "code",
      "source": [
        "pip install beautifulsoup4 lxml\n"
      ],
      "metadata": {
        "colab": {
          "base_uri": "https://localhost:8080/"
        },
        "id": "Dt1NKhtcg7cD",
        "outputId": "8ef69458-431b-4e2f-d8cf-d5f356efa6a7"
      },
      "execution_count": 19,
      "outputs": [
        {
          "output_type": "stream",
          "name": "stdout",
          "text": [
            "Requirement already satisfied: beautifulsoup4 in /usr/local/lib/python3.10/dist-packages (4.12.3)\n",
            "Requirement already satisfied: lxml in /usr/local/lib/python3.10/dist-packages (5.3.0)\n",
            "Requirement already satisfied: soupsieve>1.2 in /usr/local/lib/python3.10/dist-packages (from beautifulsoup4) (2.6)\n"
          ]
        }
      ]
    },
    {
      "cell_type": "code",
      "source": [
        "import requests\n",
        "from bs4 import BeautifulSoup\n",
        "\n",
        "# Fetch the content of the webpage\n",
        "url = 'https://example.com'\n",
        "response = requests.get(url)\n",
        "\n",
        "# Parse the HTML content with BeautifulSoup\n",
        "soup = BeautifulSoup(response.text, 'lxml')\n",
        "\n",
        "# Example: Extracting all hyperlinks (a tags) from the webpage\n",
        "for link in soup.find_all('a'):\n",
        "    print(link.get('href'))  # Prints the href attribute of each link\n",
        "\n",
        "# Example: Extracting a specific element by its ID or class\n",
        "title = soup.find('h1')  # Find the first <h1> tag\n",
        "print(title.text)  # Prints the text inside the <h1> tag\n",
        "\n",
        "# Example: Extracting multiple elements by class name\n",
        "items = soup.find_all('div', class_='item')\n",
        "for item in items:\n",
        "    print(item.text)\n",
        "\n",
        "soup.select('.class-name')  # Find elements with a specific class\n",
        "soup.select('div > p')  # Find <p> tags that are children of <div> tags\n",
        "\n",
        "text = soup.find('p').get_text()\n",
        "print(text)\n",
        "\n",
        "\n"
      ],
      "metadata": {
        "id": "MBQ1ST_CihFm"
      },
      "execution_count": null,
      "outputs": []
    },
    {
      "cell_type": "markdown",
      "source": [
        "# 2. Scrapy\n",
        "* Web Scraping Framework: Scrapy is an open-source Python framework used for web scraping and crawling websites to extract data.\n",
        "\n",
        "* Asynchronous and Fast: Scrapy uses asynchronous programming, which allows it to handle multiple requests simultaneously, making it faster and more efficient for large-scale scraping.\n",
        "\n",
        "* Spider Class: Scrapy uses spiders to define how to scrape websites. A spider defines the initial URL to start from and the logic for following links and extracting data.\n",
        "\n",
        "* Data Export: Scrapy can export scraped data into various formats such as JSON, CSV, or XML, making it easy to process and store data.\n",
        "\n",
        "* Built-in Features: Scrapy has built-in features for handling cookies, user-agent rotation, request retries, and following pagination links.\n",
        "\n",
        "* Customizable Pipelines and Middleware: Scrapy allows you to process the scraped data using pipelines and customize the request/response flow with middlewares to handle complex tasks."
      ],
      "metadata": {
        "id": "X2f51ywkkyos"
      }
    },
    {
      "cell_type": "markdown",
      "source": [
        "# Components of Scrapy\n",
        "Scrapy Engine -> Scheduler -> Downloader -> Spiders -> PipeLines -> Downloader Middleware -> Spider middlewares"
      ],
      "metadata": {
        "id": "C85aGC5IldYq"
      }
    },
    {
      "cell_type": "markdown",
      "source": [
        "# Zappa\n",
        "\n",
        "Zappa is a Python framework that makes it easy to deploy serverless applications on AWS Lambda and API Gateway. It's designed for serverless deployment of Python web applications, especially Flask and Django\n",
        "\n",
        "* ServerLess Deployment (way to build and run applications and services without having to mnanage infrastructure.)\n",
        "* Automatic Scaling\n",
        "* Cost Effective\n",
        "* Support API gateway\n",
        "* Easy Configurations\n",
        "\n",
        "\n",
        "ADVNATGES:\n",
        "1. No server management\n",
        "2. cost effective\n",
        "3. Automatic Scaling\n",
        "\n",
        "DISADVANTAGES:\n",
        "1. Cold Start Latency(AWS Lambda can introduce latency when the function is called after a period of inactivity, known as \"cold starts.\")\n",
        "2. Limited Control"
      ],
      "metadata": {
        "id": "US4bKQQUmLaY"
      }
    },
    {
      "cell_type": "markdown",
      "source": [
        "# Dash\n",
        "Web Framework: Dash is a Python framework for building interactive, web-based dashboards and data visualizations.\n",
        "\n",
        "Built on Flask and Plotly: It combines Flask (for web server functionality) and Plotly (for interactive charts and plots).\n",
        "\n",
        "No Front-End Required: You can build interactive applications with just Python, without needing HTML, CSS, or JavaScript.\n",
        "\n",
        "Component-Based: Dash uses reusable components like sliders, dropdowns, and graphs that can interact with each other.\n",
        "\n",
        "Real-Time Updates: Dash supports dynamic updates of charts and other components based on user inputs.\n",
        "\n",
        "ADVANTAGES:\n",
        "\n",
        "* Ease of Use\n",
        "* Customization\n",
        "* Integration with Plotly\n",
        "* Pythonic\n",
        "\n",
        "DISADVNATGES:\n",
        "\n",
        " * Dash applications might not be as fast\n",
        " * Limited Complex UI Components\n",
        " * Server-Side Requirements\n"
      ],
      "metadata": {
        "id": "j_j75N_Nm-qN"
      }
    },
    {
      "cell_type": "code",
      "source": [
        "import dash\n",
        "from dash import dcc, html\n",
        "import plotly.express as px\n",
        "\n",
        "# Create a Dash app\n",
        "app = dash.Dash(__name__)\n",
        "\n",
        "# Sample data for plotting\n",
        "df = px.data.iris()\n",
        "\n",
        "# Create a Plotly figure\n",
        "fig = px.scatter(df, x='sepal_width', y='sepal_length', color='species')\n",
        "\n",
        "# Define the layout of the app\n",
        "app.layout = html.Div(children=[\n",
        "    html.H1(\"Dash Example: Interactive Plotly Chart\"),\n",
        "    dcc.Graph(figure=fig)\n",
        "])\n",
        "\n",
        "# Run the app\n",
        "if __name__ == '__main__':\n",
        "    app.run_server(debug=True)\n"
      ],
      "metadata": {
        "id": "xzotnxHslDX1"
      },
      "execution_count": null,
      "outputs": []
    },
    {
      "cell_type": "markdown",
      "source": [
        "# WSGI\n",
        "WSGI (Web Server Gateway Interface) is a specification that defines how a web server communicates with web applications in Python. It serves as the standard interface between web servers and Python-based web applications or frameworks.\n",
        "\n",
        "* Standardized Interface: It allows the server to send HTTP requests to a Python application and get responses back.\n",
        "\n",
        "* Decouples Web Server and Application: It separates the web server (like Apache or Nginx) from the Python web application or framework (like Flask or Django), enabling flexibility and scalability.\n",
        "\n",
        "* Request and Response Handling\n",
        "\n",
        "* Enables Python Web Frameworks\n",
        "\n",
        "* WSGI Servers: Popular WSGI servers include Gunicorn, uWSGI, and mod_wsgi. These servers execute Python code and handle HTTP requests and responses.\n",
        "\n",
        "\n",
        "How WSGI Works:\n",
        "* The web server receives an HTTP request from the client.\n",
        "* The server passes the request to the Python web application via WSGI.\n",
        "* The application processes the request and returns a response.\n",
        "* The server sends the response back to the client."
      ],
      "metadata": {
        "id": "1nPWIY_Ln2_B"
      }
    },
    {
      "cell_type": "code",
      "source": [
        "def simple_app(environ, start_response):\n",
        "    status = '200 OK'\n",
        "    headers = [('Content-type', 'text/plain')]\n",
        "    start_response(status, headers)\n",
        "\n",
        "    return [b\"Hello, WSGI!\"]\n"
      ],
      "metadata": {
        "id": "wTpn-xqbo1hP"
      },
      "execution_count": 20,
      "outputs": []
    },
    {
      "cell_type": "markdown",
      "source": [
        "#IMPORTANT POINTS\n",
        "1. Flask is created by Armin ronacher\n",
        "2. Flask default port is 5000\n",
        "3. Flask is a microframwork\n",
        "4. Lambda is an aws services that executes your code. no need to handle any infrastructure.\n",
        "5. current_date = datetime.now().strftime(\"%Y-%m-%d\") used to extract current date\n",
        "6. Flask-SocketIO can be used to create ajax application\n",
        "7. CSRF (Cross-Site Request Forgery), XSS (Cross-Site Scripting)\n",
        "8."
      ],
      "metadata": {
        "id": "69YHziE1qDro"
      }
    }
  ]
}